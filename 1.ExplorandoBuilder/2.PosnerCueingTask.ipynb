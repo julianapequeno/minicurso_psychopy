{
 "cells": [
  {
   "cell_type": "markdown",
   "metadata": {},
   "source": [
    "# Explorando o Builder com o Posner Cueing Task"
   ]
  },
  {
   "cell_type": "markdown",
   "metadata": {},
   "source": [
    "\n",
    "Que bom tê-lo aqui! Imagino que já leu o `obuilder.md`, não? Então leia a introdução e depois volte à este notebook.\n",
    "\n",
    "Bom, antes de tudo, veja o que precisamos para construir esse experimento:\n",
    "- Alvo\n",
    "- Uma seta\n",
    "- Resposta de teclado (esquerda ou direita)\n"
   ]
  },
  {
   "cell_type": "markdown",
   "metadata": {},
   "source": [
    "##### Adicionando uma Rotina.\n",
    "Clique no botão `Insert Routine` e insira a rotina no Flow."
   ]
  },
  {
   "cell_type": "markdown",
   "metadata": {},
   "source": [
    "<div align=\"center\">\n",
    "<img src=\"images/psychopy_screen.png\" height=250>\n",
    "</div>"
   ]
  },
  {
   "cell_type": "markdown",
   "metadata": {},
   "source": [
    "Adicione o componente `Polygon` à sua rotina, basta clicar e configurar. Esta tela irá aparecer:"
   ]
  },
  {
   "cell_type": "markdown",
   "metadata": {},
   "source": [
    "<div align=\"center\">\n",
    "<img src=\"images/polygon_prop_ex.png\" height=250>\n",
    "</div>"
   ]
  },
  {
   "cell_type": "markdown",
   "metadata": {},
   "source": [
    "Agora adicione um nome, selecione o shape como \"triangle\" e  <br>\n",
    "determine o início como `0.0` e a duração como `1.0`. <br>\n",
    "\n",
    "O tempo de início se refere a quando, dentro do tempo cronológico da sua rotina, <br> o elemento irá aparecer.\n",
    "\n",
    "Agora, clique em `Okay`. Você verá o seu componente dentro da sua rotina. <br>\n",
    "Adicione outro componente do `Polygon` para ser o seu target, e determine os campos dessa forma:"
   ]
  },
  {
   "cell_type": "markdown",
   "metadata": {},
   "source": [
    "<div align=\"center\">\n",
    "<img src=\"images/target_polygon.png\" height=250>\n",
    "</div>"
   ]
  },
  {
   "cell_type": "markdown",
   "metadata": {},
   "source": [
    "Note que, neste caso o campo `durantion(s)` foi deixado em branco, isso significa que o elemento ficará aparecendo na tela até que uma reposta do usuário seja dada. Por exemplo, com o componente `Keyboard Response` podemos receber essa resposta e encerrar o comportamento do polígono `target`."
   ]
  },
  {
   "cell_type": "markdown",
   "metadata": {},
   "source": [
    "Detalhe, ainda não terminamos! Vá até a aba `Layout` ainda dentro das propriedade do `target` e coloque a `position` como `(0.5,0)`. "
   ]
  },
  {
   "cell_type": "markdown",
   "metadata": {},
   "source": [
    "```quote\n",
    "A coordenada (x,y) para o centro da sua tela é (0,0).\n",
    "```"
   ]
  },
  {
   "cell_type": "markdown",
   "metadata": {},
   "source": [
    "### Posição e Tamanho do componente"
   ]
  },
  {
   "cell_type": "markdown",
   "metadata": {},
   "source": [
    "\n",
    "Se você deu uma olhada na aba `layout` percebeu que é possível personalizarmos bastante nosso componente. Bom, antes de tudo, vamos entender as unidades que são usadas pelo Psychopy (na aba `Spatial Units`)."
   ]
  },
  {
   "cell_type": "markdown",
   "metadata": {},
   "source": [
    "### Resumo sobre cada Spatial Unit"
   ]
  },
  {
   "cell_type": "markdown",
   "metadata": {},
   "source": [
    "- Height unit: com essa unidade, todos os componentes se tornam relativos à altura da janela (não da tela). É escalável de acordo com o tamanho do stimulus. Não precisa de informações do monitor.\n",
    "- Normalised unit: a janela varia no x e no y do -1 ao 1. Isto é, o canto superior direito é (1,1) e o inferior esquerdo é o (-1,-1).Não precisa de informações do monitor.\n",
    "- Centimeters on screen: possibilita a inserção da posição e do tamanho exato do stimulu em centímetros na tela. É necessário ter informação sobre a largura da tela em centímetros e o tamanho em pixels.\n",
    "- Degrees of visual angle: Este depende da distância que o participante se senta da tela. É necessário ter informação sobre a largura da tela em centímetros, do tamanho em pixels e da distância de visualização em centímetros.\n",
    "    - Esta unidade tem três variantes: _deg_, _degFlatPos_ e _degFlag_. Para saber mais acesse no site oficial a documentação.\n",
    "- Pixels on screen: permite a especificação do tamanho e da localização do stimulus em pixels. Há uma grande desvantagem dado que seria específico para o seu monitor, todos os monitores diferem em tamanho do pixel. É necessário ter informação sobre o tamanho da tela (não da janela) em pixels, mas isso pode ser deduzido pelo sistema operacional se já foi bem definido.\n",
    "- from exp settings: herda a unidade escolhida na configuração global do experimento (vamos falar desse tópico no próximo tópico :) )"
   ]
  },
  {
   "cell_type": "markdown",
   "metadata": {},
   "source": [
    "### Configuração do seu experimento\n",
    "\n",
    "Na tela principal, clique no ícone de engrenagem e você verá a seguinte tela:"
   ]
  },
  {
   "cell_type": "markdown",
   "metadata": {},
   "source": [
    "<div align=\"center\">\n",
    "<img src=\"images/exp_settings.png\" height=450>\n",
    "</div>"
   ]
  },
  {
   "cell_type": "markdown",
   "metadata": {},
   "source": [
    "Todos os campos dentro de `Experiment Info` será apresentado como campos de preenchimento no início do seu experimento. Esses dados servirão como ID's no preenchimento da planilha que o programa entrega no final (veremos mais a frente)."
   ]
  },
  {
   "cell_type": "markdown",
   "metadata": {},
   "source": [
    "É neste ponto onde você pode alterar o padrão do nome de `participant`, `session` ou outros campos. Exemplo, posso criar mais um campo no `Experiment info` chamado `Group`, e então toda vez que eu rodar o experimento vou poder escrever o nome do grupo o qual o participante é membro. Como também posso remover campos já existentes."
   ]
  },
  {
   "cell_type": "markdown",
   "metadata": {},
   "source": [
    "Evite deletar o campo `participant`, pode causar um bug no sistema."
   ]
  },
  {
   "cell_type": "markdown",
   "metadata": {},
   "source": [
    "Por meio da aba `Screen` você pode alterar as unidades globais que está usando no experimento, se você quer que ele rode em full-screen e qual monitor você deseja usar (caso esteja usando mais de um)."
   ]
  },
  {
   "cell_type": "markdown",
   "metadata": {},
   "source": [
    "### Captando uma reposta do teclado e finalizando nosso experimento"
   ]
  },
  {
   "cell_type": "markdown",
   "metadata": {},
   "source": [
    "Adicione um componente `Keyboard Response` à sua rotina."
   ]
  },
  {
   "cell_type": "markdown",
   "metadata": {},
   "source": [
    "<div align=\"center\">\n",
    "<img src=\"images/key_resp.png\" height=250>\n",
    "</div>"
   ]
  },
  {
   "cell_type": "markdown",
   "metadata": {},
   "source": [
    "Note mais uma vez, que o `duration(s)` está vazio, indicando que o componente está em funcionamento para sempre ou até outro evento acontecer. \n",
    "- `Force end of Routine` indica que quando clicarmos em qualquer uma das `Allowed keys` a rotina atual vai fechar com todos os seus componentes, mesmo os que estão setados para durar para sempre. \n",
    "- `Allowed keys` é uma lista dos botões do teclado que serão lidos pelo programa durante a rotina. Isto é, o programa estará observando se houve cliques, por quanto tempo, se foi pressionado e quando, etc. Note que a inserção desta lista deve ser da forma que está na imagem, cada nome entre aspas simples e com vírgulas separando eles."
   ]
  }
 ],
 "metadata": {
  "language_info": {
   "name": "python"
  }
 },
 "nbformat": 4,
 "nbformat_minor": 2
}
