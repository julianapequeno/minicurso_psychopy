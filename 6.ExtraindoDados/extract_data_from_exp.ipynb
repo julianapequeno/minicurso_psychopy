{
 "cells": [
  {
   "cell_type": "markdown",
   "metadata": {},
   "source": [
    "<h5> Material do curso: <i><b>\"A Beginners guide to extracting PsychoPy data using python\"</b></i>\n",
    "<br> <i>Presented at: University of Nottingham, BSc course</i></h5> <br>\n",
    "\n",
    "> Disponibilizado pela Psychopy.org"
   ]
  },
  {
   "cell_type": "markdown",
   "metadata": {},
   "source": [
    "<h2>Extraindo dados dos experimentos & convergindo em uma tabela csv</h2>"
   ]
  },
  {
   "cell_type": "markdown",
   "metadata": {},
   "source": [
    "> Importando as bibliotecas "
   ]
  },
  {
   "cell_type": "code",
   "execution_count": 1,
   "metadata": {},
   "outputs": [],
   "source": [
    "import pandas as pd\n",
    "import numpy as np\n",
    "from psychopy import gui"
   ]
  },
  {
   "cell_type": "markdown",
   "metadata": {},
   "source": [
    "> Abrindo o arquivo csv"
   ]
  },
  {
   "cell_type": "code",
   "execution_count": 2,
   "metadata": {},
   "outputs": [],
   "source": [
    "#abre o arquivo csv com as informações sobre o experimento (arquivos csv do psychopy)\n",
    "filename = \"data/850000_numberstroop_2023-01-27_15h36.40.741.csv\"\n"
   ]
  },
  {
   "cell_type": "code",
   "execution_count": 3,
   "metadata": {},
   "outputs": [
    {
     "data": {
      "text/html": [
       "<div>\n",
       "<style scoped>\n",
       "    .dataframe tbody tr th:only-of-type {\n",
       "        vertical-align: middle;\n",
       "    }\n",
       "\n",
       "    .dataframe tbody tr th {\n",
       "        vertical-align: top;\n",
       "    }\n",
       "\n",
       "    .dataframe thead th {\n",
       "        text-align: right;\n",
       "    }\n",
       "</style>\n",
       "<table border=\"1\" class=\"dataframe\">\n",
       "  <thead>\n",
       "    <tr style=\"text-align: right;\">\n",
       "      <th></th>\n",
       "      <th>thisBlock</th>\n",
       "      <th>leftnum</th>\n",
       "      <th>rightnum</th>\n",
       "      <th>leftsize</th>\n",
       "      <th>rightsize</th>\n",
       "      <th>condition</th>\n",
       "      <th>corrAns</th>\n",
       "      <th>blocks.thisRepN</th>\n",
       "      <th>blocks.thisTrialN</th>\n",
       "      <th>blocks.thisN</th>\n",
       "      <th>...</th>\n",
       "      <th>fbtxt.stopped</th>\n",
       "      <th>byetxt.started</th>\n",
       "      <th>byetxt.stopped</th>\n",
       "      <th>participant</th>\n",
       "      <th>session</th>\n",
       "      <th>date</th>\n",
       "      <th>expName</th>\n",
       "      <th>psychopyVersion</th>\n",
       "      <th>frameRate</th>\n",
       "      <th>Unnamed: 39</th>\n",
       "    </tr>\n",
       "  </thead>\n",
       "  <tbody>\n",
       "    <tr>\n",
       "      <th>0</th>\n",
       "      <td>NaN</td>\n",
       "      <td>NaN</td>\n",
       "      <td>NaN</td>\n",
       "      <td>NaN</td>\n",
       "      <td>NaN</td>\n",
       "      <td>NaN</td>\n",
       "      <td>NaN</td>\n",
       "      <td>NaN</td>\n",
       "      <td>NaN</td>\n",
       "      <td>NaN</td>\n",
       "      <td>...</td>\n",
       "      <td>NaN</td>\n",
       "      <td>NaN</td>\n",
       "      <td>NaN</td>\n",
       "      <td>850000.0</td>\n",
       "      <td>1.0</td>\n",
       "      <td>2023-01-27_15h36.40.741</td>\n",
       "      <td>numberstroop</td>\n",
       "      <td>2022.2.4</td>\n",
       "      <td>59.867191</td>\n",
       "      <td>NaN</td>\n",
       "    </tr>\n",
       "    <tr>\n",
       "      <th>1</th>\n",
       "      <td>conditions1.xlsx</td>\n",
       "      <td>2.0</td>\n",
       "      <td>6.0</td>\n",
       "      <td>0.05</td>\n",
       "      <td>0.10</td>\n",
       "      <td>congruent</td>\n",
       "      <td>right</td>\n",
       "      <td>0.0</td>\n",
       "      <td>0.0</td>\n",
       "      <td>0.0</td>\n",
       "      <td>...</td>\n",
       "      <td>11.662443</td>\n",
       "      <td>NaN</td>\n",
       "      <td>NaN</td>\n",
       "      <td>850000.0</td>\n",
       "      <td>1.0</td>\n",
       "      <td>2023-01-27_15h36.40.741</td>\n",
       "      <td>numberstroop</td>\n",
       "      <td>2022.2.4</td>\n",
       "      <td>59.867191</td>\n",
       "      <td>NaN</td>\n",
       "    </tr>\n",
       "    <tr>\n",
       "      <th>2</th>\n",
       "      <td>conditions1.xlsx</td>\n",
       "      <td>6.0</td>\n",
       "      <td>2.0</td>\n",
       "      <td>0.05</td>\n",
       "      <td>0.10</td>\n",
       "      <td>incongruent</td>\n",
       "      <td>left</td>\n",
       "      <td>0.0</td>\n",
       "      <td>0.0</td>\n",
       "      <td>0.0</td>\n",
       "      <td>...</td>\n",
       "      <td>13.462011</td>\n",
       "      <td>NaN</td>\n",
       "      <td>NaN</td>\n",
       "      <td>850000.0</td>\n",
       "      <td>1.0</td>\n",
       "      <td>2023-01-27_15h36.40.741</td>\n",
       "      <td>numberstroop</td>\n",
       "      <td>2022.2.4</td>\n",
       "      <td>59.867191</td>\n",
       "      <td>NaN</td>\n",
       "    </tr>\n",
       "    <tr>\n",
       "      <th>3</th>\n",
       "      <td>conditions1.xlsx</td>\n",
       "      <td>6.0</td>\n",
       "      <td>2.0</td>\n",
       "      <td>0.10</td>\n",
       "      <td>0.05</td>\n",
       "      <td>congruent</td>\n",
       "      <td>left</td>\n",
       "      <td>0.0</td>\n",
       "      <td>0.0</td>\n",
       "      <td>0.0</td>\n",
       "      <td>...</td>\n",
       "      <td>14.980136</td>\n",
       "      <td>NaN</td>\n",
       "      <td>NaN</td>\n",
       "      <td>850000.0</td>\n",
       "      <td>1.0</td>\n",
       "      <td>2023-01-27_15h36.40.741</td>\n",
       "      <td>numberstroop</td>\n",
       "      <td>2022.2.4</td>\n",
       "      <td>59.867191</td>\n",
       "      <td>NaN</td>\n",
       "    </tr>\n",
       "    <tr>\n",
       "      <th>4</th>\n",
       "      <td>conditions1.xlsx</td>\n",
       "      <td>2.0</td>\n",
       "      <td>6.0</td>\n",
       "      <td>0.10</td>\n",
       "      <td>0.05</td>\n",
       "      <td>incongruent</td>\n",
       "      <td>right</td>\n",
       "      <td>0.0</td>\n",
       "      <td>0.0</td>\n",
       "      <td>0.0</td>\n",
       "      <td>...</td>\n",
       "      <td>16.664805</td>\n",
       "      <td>NaN</td>\n",
       "      <td>NaN</td>\n",
       "      <td>850000.0</td>\n",
       "      <td>1.0</td>\n",
       "      <td>2023-01-27_15h36.40.741</td>\n",
       "      <td>numberstroop</td>\n",
       "      <td>2022.2.4</td>\n",
       "      <td>59.867191</td>\n",
       "      <td>NaN</td>\n",
       "    </tr>\n",
       "  </tbody>\n",
       "</table>\n",
       "<p>5 rows × 40 columns</p>\n",
       "</div>"
      ],
      "text/plain": [
       "          thisBlock  leftnum  rightnum  leftsize  rightsize    condition  \\\n",
       "0               NaN      NaN       NaN       NaN        NaN          NaN   \n",
       "1  conditions1.xlsx      2.0       6.0      0.05       0.10    congruent   \n",
       "2  conditions1.xlsx      6.0       2.0      0.05       0.10  incongruent   \n",
       "3  conditions1.xlsx      6.0       2.0      0.10       0.05    congruent   \n",
       "4  conditions1.xlsx      2.0       6.0      0.10       0.05  incongruent   \n",
       "\n",
       "  corrAns  blocks.thisRepN  blocks.thisTrialN  blocks.thisN  ...  \\\n",
       "0     NaN              NaN                NaN           NaN  ...   \n",
       "1   right              0.0                0.0           0.0  ...   \n",
       "2    left              0.0                0.0           0.0  ...   \n",
       "3    left              0.0                0.0           0.0  ...   \n",
       "4   right              0.0                0.0           0.0  ...   \n",
       "\n",
       "   fbtxt.stopped  byetxt.started  byetxt.stopped  participant  session  \\\n",
       "0            NaN             NaN             NaN     850000.0      1.0   \n",
       "1      11.662443             NaN             NaN     850000.0      1.0   \n",
       "2      13.462011             NaN             NaN     850000.0      1.0   \n",
       "3      14.980136             NaN             NaN     850000.0      1.0   \n",
       "4      16.664805             NaN             NaN     850000.0      1.0   \n",
       "\n",
       "                      date       expName psychopyVersion  frameRate  \\\n",
       "0  2023-01-27_15h36.40.741  numberstroop        2022.2.4  59.867191   \n",
       "1  2023-01-27_15h36.40.741  numberstroop        2022.2.4  59.867191   \n",
       "2  2023-01-27_15h36.40.741  numberstroop        2022.2.4  59.867191   \n",
       "3  2023-01-27_15h36.40.741  numberstroop        2022.2.4  59.867191   \n",
       "4  2023-01-27_15h36.40.741  numberstroop        2022.2.4  59.867191   \n",
       "\n",
       "   Unnamed: 39  \n",
       "0          NaN  \n",
       "1          NaN  \n",
       "2          NaN  \n",
       "3          NaN  \n",
       "4          NaN  \n",
       "\n",
       "[5 rows x 40 columns]"
      ]
     },
     "execution_count": 3,
     "metadata": {},
     "output_type": "execute_result"
    }
   ],
   "source": [
    "#importa o arquivo csv para um DataFrame do Pandas\n",
    "data = pd.read_csv(filename)\n",
    "\n",
    "#Mostra a tabela\n",
    "data.head(5)\n"
   ]
  },
  {
   "cell_type": "markdown",
   "metadata": {},
   "source": [
    "> Extraindo uma informação específica"
   ]
  },
  {
   "cell_type": "code",
   "execution_count": 4,
   "metadata": {},
   "outputs": [
    {
     "data": {
      "text/plain": [
       "850000.0"
      ]
     },
     "execution_count": 4,
     "metadata": {},
     "output_type": "execute_result"
    }
   ],
   "source": [
    "participante = data['participant'][0]\n",
    "participante"
   ]
  },
  {
   "cell_type": "markdown",
   "metadata": {},
   "source": [
    "> Para este experimento, estamos interessados no tempo de reação. Então iremos extrair apenas aquela informação da tabela. Como? "
   ]
  },
  {
   "cell_type": "code",
   "execution_count": 5,
   "metadata": {},
   "outputs": [],
   "source": [
    "#selecionando um subconjunto de uma coluna baseada em outra coluna\n",
    "\n",
    "congruente_tempo_reacao = data.loc[data['condition'] == 'congruent']['key_resp.rt']\n",
    "incongruente_tempo_reacao = data.loc[data['condition'] == 'incongruent']['key_resp.rt']\n",
    "neutro_tempo_reacao = data.loc[data['condition'] == 'neutral']['key_resp.rt']\n",
    "\n",
    "#o data.loc procura pelas linhas da tabela onde uma determinada condição é aceita.\n",
    "#e então usamos o ['key_resp.rt'] para pegar apenas as informações do tempo de reação\n",
    "\n"
   ]
  },
  {
   "cell_type": "markdown",
   "metadata": {},
   "source": [
    "> Tendo essas informações separadas, agora podemos summarize them. Calcular a média de cada uma das categorias para aquele participante."
   ]
  },
  {
   "cell_type": "markdown",
   "metadata": {},
   "source": [
    "> Faremos isso usando a biblioteca `Numpy`"
   ]
  },
  {
   "cell_type": "code",
   "execution_count": 6,
   "metadata": {},
   "outputs": [],
   "source": [
    "media_congruente = np.average(congruente_tempo_reacao)\n",
    "media_incongruente = np.average(incongruente_tempo_reacao)\n",
    "media_neutro = np.average(neutro_tempo_reacao)"
   ]
  },
  {
   "cell_type": "code",
   "execution_count": 7,
   "metadata": {},
   "outputs": [
    {
     "name": "stdout",
     "output_type": "stream",
     "text": [
      "Para o participante 850000.0 as médias de tempo de reação foram: \n",
      " A média de congruentes foi 0.50446889011655,\n",
      " A média de incongruentes foi 0.517305810097605\n",
      " A média de neutros foi 0.4051484901166987 \n"
     ]
    }
   ],
   "source": [
    "print(f\"Para o participante {participante} as médias de tempo de reação foram: \\n A média de congruentes foi {media_congruente},\\n A média de incongruentes foi {media_incongruente}\\n A média de neutros foi {media_neutro} \")"
   ]
  },
  {
   "cell_type": "markdown",
   "metadata": {},
   "source": [
    "> Certo, agora que tal fazermos isso para todos os participantes?"
   ]
  },
  {
   "cell_type": "markdown",
   "metadata": {},
   "source": [
    "> Podemos enfim utilizar o `Psychopy` para selecionar uma range de arquivos para podermos sumarizar em uma só tabela."
   ]
  },
  {
   "cell_type": "code",
   "execution_count": 8,
   "metadata": {},
   "outputs": [
    {
     "name": "stderr",
     "output_type": "stream",
     "text": [
      "QApplication: invalid style override 'adwaita' passed, ignoring it.\n",
      "\tAvailable styles: Windows, Fusion\n"
     ]
    }
   ],
   "source": [
    "from psychopy import gui\n",
    "\n",
    "#abre uma janela para selecionar todos os arquivos de dados.\n",
    "files = gui.fileOpenDlg()"
   ]
  },
  {
   "cell_type": "code",
   "execution_count": 9,
   "metadata": {},
   "outputs": [
    {
     "data": {
      "text/plain": [
       "['/home/juliana/Documents/EYEtracking-gitrepo/eye_data/workshops/data/990492_numberstroop_2023-01-27_16h54.04.641.csv',\n",
       " '/home/juliana/Documents/EYEtracking-gitrepo/eye_data/workshops/data/850000_numberstroop_2023-01-27_15h36.40.741.csv',\n",
       " '/home/juliana/Documents/EYEtracking-gitrepo/eye_data/workshops/data/108174_numberstroop_2023-01-27_16h47.57.577.csv']"
      ]
     },
     "execution_count": 9,
     "metadata": {},
     "output_type": "execute_result"
    }
   ],
   "source": [
    "files"
   ]
  },
  {
   "cell_type": "markdown",
   "metadata": {},
   "source": [
    "> Agora vamos organizar o formato do nosso arquivo de saída para podermos enfim tê-lo."
   ]
  },
  {
   "cell_type": "markdown",
   "metadata": {},
   "source": [
    "> Usaremos um `Dictionary` uma estrutura de dados que utiliza conceito de chave e valor."
   ]
  },
  {
   "cell_type": "code",
   "execution_count": 17,
   "metadata": {},
   "outputs": [],
   "source": [
    "output = {'participante': [], 'media_rt_congruente':[], 'media_rt_incongruente':[],'media_rt_neutro':[]}"
   ]
  },
  {
   "cell_type": "markdown",
   "metadata": {},
   "source": [
    "> Agora adicionamos o resultado no dicionário"
   ]
  },
  {
   "cell_type": "code",
   "execution_count": 11,
   "metadata": {},
   "outputs": [],
   "source": [
    "output['participante'].append(participante)\n",
    "output['media_rt_congruente'].append(media_congruente)\n",
    "output['media_rt_incongruente'].append(media_incongruente)\n",
    "output['media_rt_neutro'].append(media_neutro)"
   ]
  },
  {
   "cell_type": "markdown",
   "metadata": {},
   "source": [
    "> Finalmente, iremos rodar para todos os arquivos.Utilizando um `loop`"
   ]
  },
  {
   "cell_type": "code",
   "execution_count": 18,
   "metadata": {},
   "outputs": [],
   "source": [
    "for nome_arquivo in files:\n",
    "    data = pd.read_csv(nome_arquivo)\n",
    "\n",
    "    #pegue uma coluna nomeada do dataframe\n",
    "    response_times = data['key_resp.rt']\n",
    "\n",
    "    #pegue o nome do participante\n",
    "    participante = data['participant'][0]\n",
    "\n",
    "    congruente_tempo_reacao = data.loc[data['condition'] == 'congruent']['key_resp.rt']\n",
    "    incongruente_tempo_reacao = data.loc[data['condition'] == 'incongruent']['key_resp.rt']\n",
    "    neutro_tempo_reacao = data.loc[data['condition'] == 'neutral']['key_resp.rt']\n",
    "\n",
    "    media_congruente = np.average(congruente_tempo_reacao)\n",
    "    media_incongruente = np.average(incongruente_tempo_reacao)\n",
    "    media_neutro = np.average(neutro_tempo_reacao)\n",
    "\n",
    "    #adicione os valores ao dicionário\n",
    "\n",
    "    output['participante'].append(participante)\n",
    "    output['media_rt_congruente'].append(media_congruente)\n",
    "    output['media_rt_incongruente'].append(media_incongruente)\n",
    "    output['media_rt_neutro'].append(media_neutro)\n"
   ]
  },
  {
   "cell_type": "markdown",
   "metadata": {},
   "source": [
    "> Salve o resultado em um arquivo .csv"
   ]
  },
  {
   "cell_type": "code",
   "execution_count": 19,
   "metadata": {},
   "outputs": [],
   "source": [
    "#converte o dicionário em um dataframe\n",
    "output_df = pd.DataFrame.from_dict(output)\n",
    "\n",
    "#salva o dataframe como um csv\n",
    "output_df.to_csv('all_participants.csv',index=False)\n",
    "#o index=False indica se queremos uma coluna indicando o número da linha"
   ]
  }
 ],
 "metadata": {
  "kernelspec": {
   "display_name": ".venv",
   "language": "python",
   "name": "python3"
  },
  "language_info": {
   "codemirror_mode": {
    "name": "ipython",
    "version": 3
   },
   "file_extension": ".py",
   "mimetype": "text/x-python",
   "name": "python",
   "nbconvert_exporter": "python",
   "pygments_lexer": "ipython3",
   "version": "3.10.13"
  }
 },
 "nbformat": 4,
 "nbformat_minor": 2
}
